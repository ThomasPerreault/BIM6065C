{
 "cells": [
  {
   "cell_type": "markdown",
   "id": "0b5f76c3-f9f6-42cf-85e2-3f0e6def0286",
   "metadata": {},
   "source": [
    "# Data Analysis and Data Science\n",
    "## Be curious about the method \n",
    "\n",
    "By: Caroline Labelle\n",
    "<br>For: BIM6065-C\n",
    "\n",
    "<br>\n",
    "Date: July 4th, 2023\n",
    "\n",
    "<hr style=\"border:1px solid black\"> </hr>"
   ]
  },
  {
   "cell_type": "code",
   "execution_count": 1,
   "id": "e545393f-36ef-48fe-a7c5-8ccf4373597d",
   "metadata": {},
   "outputs": [],
   "source": [
    "### Student Name: Thomas Perreault"
   ]
  },
  {
   "cell_type": "markdown",
   "id": "9ed6012b-aa81-4f1f-92f4-794ac29b1598",
   "metadata": {},
   "source": [
    "Complete the following exercises and submit your Notebook in a HTML format on StudiUM. You have until July 5th, noon to hand-in your Notebook."
   ]
  },
  {
   "cell_type": "code",
   "execution_count": 2,
   "id": "5b313e3b-06d1-4515-9404-dbe1850ef415",
   "metadata": {},
   "outputs": [],
   "source": [
    "### Import sklearn\n",
    "import sklearn.decomposition, sklearn.cluster\n",
    "\n",
    "### Import scipy\n",
    "import scipy as sp\n",
    "\n",
    "### Import pandas, numpy, seaborn and matplotlib.pyplot\n",
    "import pandas as pd\n",
    "import numpy as np\n",
    "import seaborn as sns"
   ]
  },
  {
   "cell_type": "code",
   "execution_count": 3,
   "id": "c21e56ca-687a-430f-8d89-ec57525e92bb",
   "metadata": {},
   "outputs": [],
   "source": [
    "sns.set(rc={'figure.figsize':(4, 2)})\n",
    "sns.set_theme(context=\"notebook\", style=\"white\", palette=\"Set2\")"
   ]
  },
  {
   "cell_type": "markdown",
   "id": "5b0fd809-ef46-45a8-90fd-748a4fce79fa",
   "metadata": {},
   "source": [
    "## Genes correlation [25 pts]"
   ]
  },
  {
   "cell_type": "code",
   "execution_count": 4,
   "id": "c33fda1e-e5f6-4d17-9b02-ba6e21d7624f",
   "metadata": {},
   "outputs": [
    {
     "data": {
      "text/html": [
       "<div>\n",
       "<style scoped>\n",
       "    .dataframe tbody tr th:only-of-type {\n",
       "        vertical-align: middle;\n",
       "    }\n",
       "\n",
       "    .dataframe tbody tr th {\n",
       "        vertical-align: top;\n",
       "    }\n",
       "\n",
       "    .dataframe thead th {\n",
       "        text-align: right;\n",
       "    }\n",
       "</style>\n",
       "<table border=\"1\" class=\"dataframe\">\n",
       "  <thead>\n",
       "    <tr style=\"text-align: right;\">\n",
       "      <th></th>\n",
       "      <th>ESR1</th>\n",
       "      <th>PGR</th>\n",
       "      <th>BCL2</th>\n",
       "      <th>NAT1</th>\n",
       "      <th>Results</th>\n",
       "    </tr>\n",
       "  </thead>\n",
       "  <tbody>\n",
       "    <tr>\n",
       "      <th>0</th>\n",
       "      <td>5.1</td>\n",
       "      <td>3.5</td>\n",
       "      <td>1.4</td>\n",
       "      <td>0.2</td>\n",
       "      <td>Cured</td>\n",
       "    </tr>\n",
       "    <tr>\n",
       "      <th>1</th>\n",
       "      <td>4.9</td>\n",
       "      <td>3.0</td>\n",
       "      <td>1.4</td>\n",
       "      <td>0.2</td>\n",
       "      <td>Cured</td>\n",
       "    </tr>\n",
       "    <tr>\n",
       "      <th>2</th>\n",
       "      <td>4.7</td>\n",
       "      <td>3.2</td>\n",
       "      <td>1.3</td>\n",
       "      <td>0.2</td>\n",
       "      <td>Cured</td>\n",
       "    </tr>\n",
       "    <tr>\n",
       "      <th>3</th>\n",
       "      <td>4.6</td>\n",
       "      <td>3.1</td>\n",
       "      <td>1.5</td>\n",
       "      <td>0.2</td>\n",
       "      <td>Cured</td>\n",
       "    </tr>\n",
       "    <tr>\n",
       "      <th>4</th>\n",
       "      <td>5.0</td>\n",
       "      <td>3.6</td>\n",
       "      <td>1.4</td>\n",
       "      <td>0.2</td>\n",
       "      <td>Cured</td>\n",
       "    </tr>\n",
       "  </tbody>\n",
       "</table>\n",
       "</div>"
      ],
      "text/plain": [
       "   ESR1  PGR  BCL2  NAT1 Results\n",
       "0   5.1  3.5   1.4   0.2   Cured\n",
       "1   4.9  3.0   1.4   0.2   Cured\n",
       "2   4.7  3.2   1.3   0.2   Cured\n",
       "3   4.6  3.1   1.5   0.2   Cured\n",
       "4   5.0  3.6   1.4   0.2   Cured"
      ]
     },
     "execution_count": 4,
     "metadata": {},
     "output_type": "execute_result"
    }
   ],
   "source": [
    "### Import and clean the Gene expression cancer 1 dataset\n",
    "data  = pd.read_csv(\"gene_expression_cancer_1.csv\", sep=\",\", header=0)\n",
    "data.head()"
   ]
  },
  {
   "cell_type": "markdown",
   "id": "cbc9c7b2-1dfe-487e-8a39-3e384e6f3953",
   "metadata": {},
   "source": [
    "### Global correlation [6 pts]"
   ]
  },
  {
   "cell_type": "code",
   "execution_count": 5,
   "id": "99f2dd9d-9bab-42a9-a225-4eb9306f8749",
   "metadata": {},
   "outputs": [
    {
     "name": "stdout",
     "output_type": "stream",
     "text": [
      "Pearson correlation:  -0.10936924995064938\n"
     ]
    },
    {
     "data": {
      "image/png": "[encoded data removed]",
      "text/plain": [
       "<Figure size 400x200 with 1 Axes>"
      ]
     },
     "metadata": {},
     "output_type": "display_data"
    }
   ],
   "source": [
    "### Consider the PGR and ESR1 genes. Do the expression of these two genes correlates?\n",
    "### Consider the entire dataset.\n",
    "### Answer the question with a Pearson correlation coefficient, a plot and brief interpretation of your results.\n",
    "reg = sp.stats.linregress(x=data.PGR, y=data.ESR1, alternative=\"two-sided\")\n",
    "print(\"Pearson correlation: \", reg.rvalue)\n",
    "\n",
    "p = sns.regplot(data, x=\"PGR\", y=\"ESR1\")\n",
    "p.text(4,6.5, np.round(reg.rvalue, 4))\n",
    "p.set_title(\"PGR vs. ESR1 correletion with rvalue\")\n",
    "\n",
    "sns.despine()"
   ]
  },
  {
   "cell_type": "code",
   "execution_count": 6,
   "id": "99ec50bd-acab-4e44-8a43-c5012d7f8b1a",
   "metadata": {},
   "outputs": [
    {
     "name": "stdout",
     "output_type": "stream",
     "text": [
      "Interpretation : \n",
      "The linear correlation between the expression of ESR1 and PGR seems to be really weak at best\n"
     ]
    }
   ],
   "source": [
    "print(\"Interpretation : \")\n",
    "print(\"The linear correlation between the expression of ESR1 and PGR seems to be really weak at best\")"
   ]
  },
  {
   "cell_type": "code",
   "execution_count": null,
   "id": "8d2d10b0-6ed8-466b-95f9-0674a6b2d120",
   "metadata": {},
   "outputs": [],
   "source": []
  },
  {
   "cell_type": "markdown",
   "id": "ffaadb16-d40b-421a-a02b-78b4810b87cd",
   "metadata": {},
   "source": [
    "### Grouped correlations [14 pts]"
   ]
  },
  {
   "cell_type": "code",
   "execution_count": 9,
   "id": "6a7499fc-9a75-4271-83e8-7912fbbeca92",
   "metadata": {},
   "outputs": [
    {
     "data": {
      "text/html": [
       "<div>\n",
       "<style scoped>\n",
       "    .dataframe tbody tr th:only-of-type {\n",
       "        vertical-align: middle;\n",
       "    }\n",
       "\n",
       "    .dataframe tbody tr th {\n",
       "        vertical-align: top;\n",
       "    }\n",
       "\n",
       "    .dataframe thead th {\n",
       "        text-align: right;\n",
       "    }\n",
       "</style>\n",
       "<table border=\"1\" class=\"dataframe\">\n",
       "  <thead>\n",
       "    <tr style=\"text-align: right;\">\n",
       "      <th></th>\n",
       "      <th>ESR1</th>\n",
       "      <th>PGR</th>\n",
       "      <th>Results</th>\n",
       "    </tr>\n",
       "  </thead>\n",
       "  <tbody>\n",
       "    <tr>\n",
       "      <th>99</th>\n",
       "      <td>5.7</td>\n",
       "      <td>2.8</td>\n",
       "      <td>Dead</td>\n",
       "    </tr>\n",
       "    <tr>\n",
       "      <th>100</th>\n",
       "      <td>6.3</td>\n",
       "      <td>3.3</td>\n",
       "      <td>Dead</td>\n",
       "    </tr>\n",
       "    <tr>\n",
       "      <th>101</th>\n",
       "      <td>5.8</td>\n",
       "      <td>2.7</td>\n",
       "      <td>Dead</td>\n",
       "    </tr>\n",
       "    <tr>\n",
       "      <th>102</th>\n",
       "      <td>7.1</td>\n",
       "      <td>3.0</td>\n",
       "      <td>Dead</td>\n",
       "    </tr>\n",
       "    <tr>\n",
       "      <th>103</th>\n",
       "      <td>6.3</td>\n",
       "      <td>2.9</td>\n",
       "      <td>Dead</td>\n",
       "    </tr>\n",
       "  </tbody>\n",
       "</table>\n",
       "</div>"
      ],
      "text/plain": [
       "     ESR1  PGR Results\n",
       "99    5.7  2.8    Dead\n",
       "100   6.3  3.3    Dead\n",
       "101   5.8  2.7    Dead\n",
       "102   7.1  3.0    Dead\n",
       "103   6.3  2.9    Dead"
      ]
     },
     "execution_count": 9,
     "metadata": {},
     "output_type": "execute_result"
    }
   ],
   "source": [
    "### Consider the same two genes, but assess correlation based on the patient outcomes (a.k.a \"Results\").\n",
    "### For each group, return a Pearson correlation coefficient and a plot.\n",
    "### (You can generate a single plot with all three groups or three individual plots)\n",
    "### Briefly interpret your results and state if your conclusion differ from the one previously made (Global correlation).\n",
    "\n",
    "\n",
    "#create subset\n",
    "\n",
    "\n",
    "\n",
    "#subset_data = pd.DataFrame(data.loc[:, \"ESR1\":\"PGR\"])\n",
    "#subset_data_Cured= data.loc[data.Results==\"Cured\", \"ESR1\":\"PGR\"] \n",
    "sub = data.loc[:, [\"ESR1\", \"PGR\", \"Results\"]]\n",
    "\n",
    "sub_Cured = sub.loc[sub[\"Results\"] == \"Cured\"]\n",
    "sub_Cured.head()\n",
    "\n",
    "sub_Recurrence = sub.loc[sub[\"Results\"] == \"Recurrence\"]\n",
    "sub_Recurrence.head()\n",
    "\n",
    "sub_Dead = sub.loc[sub[\"Results\"] == \"Dead\"]\n",
    "sub_Dead.head()\n",
    "\n",
    "#pd.DataFrame(data.loc[data.Results==\"Cured\", :], columns = data.columns)\n",
    "#regCured = sp.stats.linregress(x=sub_Cured.PGR, y=sub_Cured.ESR1, alternative=\"two-sided\")\n",
    "#sub_Rec\n",
    "#sub_Dead\n",
    "\n",
    "#regCured = sp.stats.linregress(x=data.PGR.Results==\"Cured\", y=data.ESR1.Results==\"Cured\", alternative=\"two-sided\")\n",
    "#print(regCured)\n",
    "#regReccurence = sp.stats.linregress(x=data.PGR, y=data.ESR1, alternative=\"two-sided\")\n",
    "#regDead = sp.stats.linregress(x=data.PGR, y=data.ESR1, alternative=\"two-sided\")\n",
    "\n",
    "#pl=sns.lmplot(data=data, x=\"ESR1\", y=\"PGR\", truncate=False, col=\"Results\", hue=\"Results\")\n",
    "#sns.despine()\n",
    "#pl.text(1,1, np.round())"
   ]
  },
  {
   "cell_type": "markdown",
   "id": "1f0b8a55-dc0a-41bd-a364-6f1573e4b868",
   "metadata": {},
   "source": [
    "### Spearman's rank correlation [5 pts]"
   ]
  },
  {
   "cell_type": "code",
   "execution_count": 8,
   "id": "8e9b3a16-7cbc-4e3b-8400-b5851b480566",
   "metadata": {},
   "outputs": [],
   "source": [
    "### Calculate the Spearman' rank correlations for the four comparisons made previously.\n",
    "### (Global dataset and the three goups)\n",
    "### Do the results differ? if so, do the conlusions also differ? \n",
    "### Briefly explain what are the new conclusions.\n"
   ]
  }
 ],
 "metadata": {
  "kernelspec": {
   "display_name": "Python (bioinfo)2024",
   "language": "python",
   "name": "bioinfo"
  },
  "language_info": {
   "codemirror_mode": {
    "name": "ipython",
    "version": 3
   },
   "file_extension": ".py",
   "mimetype": "text/x-python",
   "name": "python",
   "nbconvert_exporter": "python",
   "pygments_lexer": "ipython3",
   "version": "3.10.4"
  }
 },
 "nbformat": 4,
 "nbformat_minor": 5
}
