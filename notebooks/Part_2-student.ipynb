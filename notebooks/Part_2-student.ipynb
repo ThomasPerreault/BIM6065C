{
 "cells": [
  {
   "cell_type": "markdown",
   "metadata": {},
   "source": [
    "(The spirit when programming: \"*Why spend 5 days doing some work when you can spend 5 weeks automating it!*\")"
   ]
  },
  {
   "cell_type": "markdown",
   "metadata": {},
   "source": [
    "# Creating your own kernel / environment"
   ]
  },
  {
   "cell_type": "markdown",
   "metadata": {},
   "source": [
    "Create a Python environment (where packages are installed):\n",
    "- Open a terminal\n",
    "- `python3 -m venv bioinfo`\n",
    "- `source bioinfo/bin/activate`"
   ]
  },
  {
   "cell_type": "markdown",
   "metadata": {},
   "source": [
    "Link it to a Jupyter kernel (so that your code execute with it):\n",
    "- `pip install ipykernel`\n",
    "- `python3 -m ipykernel install --user --name bioinfo --display-name \"Python (bioinfo)\"`"
   ]
  },
  {
   "cell_type": "markdown",
   "metadata": {},
   "source": [
    "Then you can install new packages:\n",
    "- `pip install pandas`"
   ]
  },
  {
   "cell_type": "markdown",
   "metadata": {},
   "source": [
    "In your notebook, you'll need to `Kernel` -> `Change kernel` to this new kernel. It is probably safe to then `Kernel` -> `Restart & clear output`. Make sure this new kernel is the one active (upper right corner of your screen, just below the button `Control Panel`)."
   ]
  },
  {
   "cell_type": "markdown",
   "metadata": {},
   "source": [
    "# Working with real data"
   ]
  },
  {
   "cell_type": "code",
   "execution_count": 11,
   "metadata": {},
   "outputs": [],
   "source": [
    "import pandas\n"
   ]
  },
  {
   "cell_type": "markdown",
   "metadata": {},
   "source": [
    "## Read from / write to TSV and CSV files (in and out of Excel / R)"
   ]
  },
  {
   "cell_type": "markdown",
   "metadata": {},
   "source": [
    "(Doc: https://pandas.pydata.org/docs/reference/api/pandas.read_table.html#pandas.read_table)"
   ]
  },
  {
   "cell_type": "code",
   "execution_count": 14,
   "metadata": {},
   "outputs": [],
   "source": [
    "df = pandas.read_table(\"kmers.tsv\")\n"
   ]
  },
  {
   "cell_type": "markdown",
   "metadata": {},
   "source": [
    "(Doc: https://pandas.pydata.org/docs/reference/api/pandas.DataFrame.to_csv.html)"
   ]
  },
  {
   "cell_type": "code",
   "execution_count": 15,
   "metadata": {},
   "outputs": [],
   "source": [
    "df.to_csv(\"test.csv\")"
   ]
  },
  {
   "cell_type": "markdown",
   "metadata": {},
   "source": [
    "## Dataframe manipulation"
   ]
  },
  {
   "cell_type": "markdown",
   "metadata": {},
   "source": [
    "(.head(), .tail(), .shape, .Col, sum(), len(), .describe(), [\"Col\"], .drop())"
   ]
  },
  {
   "cell_type": "code",
   "execution_count": 16,
   "metadata": {},
   "outputs": [
    {
     "data": {
      "text/html": [
       "<div>\n",
       "<style scoped>\n",
       "    .dataframe tbody tr th:only-of-type {\n",
       "        vertical-align: middle;\n",
       "    }\n",
       "\n",
       "    .dataframe tbody tr th {\n",
       "        vertical-align: top;\n",
       "    }\n",
       "\n",
       "    .dataframe thead th {\n",
       "        text-align: right;\n",
       "    }\n",
       "</style>\n",
       "<table border=\"1\" class=\"dataframe\">\n",
       "  <thead>\n",
       "    <tr style=\"text-align: right;\">\n",
       "      <th></th>\n",
       "      <th>Seq</th>\n",
       "      <th>Id</th>\n",
       "      <th>Count</th>\n",
       "    </tr>\n",
       "  </thead>\n",
       "  <tbody>\n",
       "    <tr>\n",
       "      <th>0</th>\n",
       "      <td>AAAAAAAAAAAAAAAAAAAAAAAAAAAAAAA</td>\n",
       "      <td>1</td>\n",
       "      <td>113422</td>\n",
       "    </tr>\n",
       "    <tr>\n",
       "      <th>1</th>\n",
       "      <td>CAGGACTCCAATATAGAGATAAGTTAATGTC</td>\n",
       "      <td>2</td>\n",
       "      <td>93</td>\n",
       "    </tr>\n",
       "    <tr>\n",
       "      <th>2</th>\n",
       "      <td>TATGTAATTGGTTCCAGTGTGAGTCATTAAA</td>\n",
       "      <td>3</td>\n",
       "      <td>5</td>\n",
       "    </tr>\n",
       "    <tr>\n",
       "      <th>3</th>\n",
       "      <td>GATATTTTCGAAAAGTGGGATTTTTTAAACC</td>\n",
       "      <td>4</td>\n",
       "      <td>88</td>\n",
       "    </tr>\n",
       "    <tr>\n",
       "      <th>4</th>\n",
       "      <td>CTCCATCTCAGGTATTAGAATGAATGCTTAC</td>\n",
       "      <td>5</td>\n",
       "      <td>7</td>\n",
       "    </tr>\n",
       "  </tbody>\n",
       "</table>\n",
       "</div>"
      ],
      "text/plain": [
       "                               Seq  Id   Count\n",
       "0  AAAAAAAAAAAAAAAAAAAAAAAAAAAAAAA   1  113422\n",
       "1  CAGGACTCCAATATAGAGATAAGTTAATGTC   2      93\n",
       "2  TATGTAATTGGTTCCAGTGTGAGTCATTAAA   3       5\n",
       "3  GATATTTTCGAAAAGTGGGATTTTTTAAACC   4      88\n",
       "4  CTCCATCTCAGGTATTAGAATGAATGCTTAC   5       7"
      ]
     },
     "execution_count": 16,
     "metadata": {},
     "output_type": "execute_result"
    }
   ],
   "source": [
    "#shows first 5 rows:\n",
    "df.head()"
   ]
  },
  {
   "cell_type": "code",
   "execution_count": 17,
   "metadata": {},
   "outputs": [
    {
     "data": {
      "text/html": [
       "<div>\n",
       "<style scoped>\n",
       "    .dataframe tbody tr th:only-of-type {\n",
       "        vertical-align: middle;\n",
       "    }\n",
       "\n",
       "    .dataframe tbody tr th {\n",
       "        vertical-align: top;\n",
       "    }\n",
       "\n",
       "    .dataframe thead th {\n",
       "        text-align: right;\n",
       "    }\n",
       "</style>\n",
       "<table border=\"1\" class=\"dataframe\">\n",
       "  <thead>\n",
       "    <tr style=\"text-align: right;\">\n",
       "      <th></th>\n",
       "      <th>Seq</th>\n",
       "      <th>Id</th>\n",
       "      <th>Count</th>\n",
       "    </tr>\n",
       "  </thead>\n",
       "  <tbody>\n",
       "    <tr>\n",
       "      <th>3995</th>\n",
       "      <td>AGCTGCAGGAACTCCCTCGTCACAGCTTAAA</td>\n",
       "      <td>3996</td>\n",
       "      <td>5</td>\n",
       "    </tr>\n",
       "    <tr>\n",
       "      <th>3996</th>\n",
       "      <td>CTGAGCTCTCTGGGAAAGTCGTGTTCCGGAA</td>\n",
       "      <td>3997</td>\n",
       "      <td>5</td>\n",
       "    </tr>\n",
       "    <tr>\n",
       "      <th>3997</th>\n",
       "      <td>GTCTGCCTTTATGGCCTTTGTACTCAAAGAA</td>\n",
       "      <td>3998</td>\n",
       "      <td>10</td>\n",
       "    </tr>\n",
       "    <tr>\n",
       "      <th>3998</th>\n",
       "      <td>AGACTATAGTGAGCTCAGGTGATTGATACTC</td>\n",
       "      <td>3999</td>\n",
       "      <td>7</td>\n",
       "    </tr>\n",
       "    <tr>\n",
       "      <th>3999</th>\n",
       "      <td>AAACCCAGTCACTGGACACCTAAGTGTCCAC</td>\n",
       "      <td>4000</td>\n",
       "      <td>11</td>\n",
       "    </tr>\n",
       "  </tbody>\n",
       "</table>\n",
       "</div>"
      ],
      "text/plain": [
       "                                  Seq    Id  Count\n",
       "3995  AGCTGCAGGAACTCCCTCGTCACAGCTTAAA  3996      5\n",
       "3996  CTGAGCTCTCTGGGAAAGTCGTGTTCCGGAA  3997      5\n",
       "3997  GTCTGCCTTTATGGCCTTTGTACTCAAAGAA  3998     10\n",
       "3998  AGACTATAGTGAGCTCAGGTGATTGATACTC  3999      7\n",
       "3999  AAACCCAGTCACTGGACACCTAAGTGTCCAC  4000     11"
      ]
     },
     "execution_count": 17,
     "metadata": {},
     "output_type": "execute_result"
    }
   ],
   "source": [
    "#shows last 5 rows:\n",
    "df.tail()"
   ]
  },
  {
   "cell_type": "code",
   "execution_count": 18,
   "metadata": {},
   "outputs": [
    {
     "data": {
      "text/plain": [
       "(4000, 3)"
      ]
     },
     "execution_count": 18,
     "metadata": {},
     "output_type": "execute_result"
    }
   ],
   "source": [
    "#gives you the size of the table\n",
    "df.shape"
   ]
  },
  {
   "cell_type": "code",
   "execution_count": 25,
   "metadata": {},
   "outputs": [
    {
     "data": {
      "text/plain": [
       "Index(['Seq', 'Id', 'Count'], dtype='object')"
      ]
     },
     "execution_count": 25,
     "metadata": {},
     "output_type": "execute_result"
    }
   ],
   "source": [
    "#shows the names of the columns\n",
    "df.columns\n"
   ]
  },
  {
   "cell_type": "code",
   "execution_count": 26,
   "metadata": {},
   "outputs": [
    {
     "data": {
      "text/plain": [
       "0       AAAAAAAAAAAAAAAAAAAAAAAAAAAAAAA\n",
       "1       CAGGACTCCAATATAGAGATAAGTTAATGTC\n",
       "2       TATGTAATTGGTTCCAGTGTGAGTCATTAAA\n",
       "3       GATATTTTCGAAAAGTGGGATTTTTTAAACC\n",
       "4       CTCCATCTCAGGTATTAGAATGAATGCTTAC\n",
       "                     ...               \n",
       "3995    AGCTGCAGGAACTCCCTCGTCACAGCTTAAA\n",
       "3996    CTGAGCTCTCTGGGAAAGTCGTGTTCCGGAA\n",
       "3997    GTCTGCCTTTATGGCCTTTGTACTCAAAGAA\n",
       "3998    AGACTATAGTGAGCTCAGGTGATTGATACTC\n",
       "3999    AAACCCAGTCACTGGACACCTAAGTGTCCAC\n",
       "Name: Seq, Length: 4000, dtype: object"
      ]
     },
     "execution_count": 26,
     "metadata": {},
     "output_type": "execute_result"
    }
   ],
   "source": [
    "#extract a column\n",
    "df.Seq"
   ]
  },
  {
   "cell_type": "code",
   "execution_count": 29,
   "metadata": {},
   "outputs": [
    {
     "data": {
      "text/plain": [
       "0       113422\n",
       "1           93\n",
       "2            5\n",
       "3           88\n",
       "4            7\n",
       "         ...  \n",
       "3995         5\n",
       "3996         5\n",
       "3997        10\n",
       "3998         7\n",
       "3999        11\n",
       "Name: Count, Length: 4000, dtype: int64"
      ]
     },
     "execution_count": 29,
     "metadata": {},
     "output_type": "execute_result"
    }
   ],
   "source": [
    "# returns a list of all the values\n",
    "df.Count"
   ]
  },
  {
   "cell_type": "code",
   "execution_count": 31,
   "metadata": {},
   "outputs": [
    {
     "data": {
      "text/plain": [
       "93.162"
      ]
     },
     "execution_count": 31,
     "metadata": {},
     "output_type": "execute_result"
    }
   ],
   "source": [
    "#\n",
    "sum(df.Count)\n",
    "\n",
    "sum(df.Count)/len(df.Count)\n"
   ]
  },
  {
   "cell_type": "code",
   "execution_count": 33,
   "metadata": {},
   "outputs": [
    {
     "data": {
      "text/html": [
       "<div>\n",
       "<style scoped>\n",
       "    .dataframe tbody tr th:only-of-type {\n",
       "        vertical-align: middle;\n",
       "    }\n",
       "\n",
       "    .dataframe tbody tr th {\n",
       "        vertical-align: top;\n",
       "    }\n",
       "\n",
       "    .dataframe thead th {\n",
       "        text-align: right;\n",
       "    }\n",
       "</style>\n",
       "<table border=\"1\" class=\"dataframe\">\n",
       "  <thead>\n",
       "    <tr style=\"text-align: right;\">\n",
       "      <th></th>\n",
       "      <th>Id</th>\n",
       "      <th>Count</th>\n",
       "    </tr>\n",
       "  </thead>\n",
       "  <tbody>\n",
       "    <tr>\n",
       "      <th>count</th>\n",
       "      <td>4000.000000</td>\n",
       "      <td>4000.000000</td>\n",
       "    </tr>\n",
       "    <tr>\n",
       "      <th>mean</th>\n",
       "      <td>2000.500000</td>\n",
       "      <td>93.162000</td>\n",
       "    </tr>\n",
       "    <tr>\n",
       "      <th>std</th>\n",
       "      <td>1154.844867</td>\n",
       "      <td>1804.997654</td>\n",
       "    </tr>\n",
       "    <tr>\n",
       "      <th>min</th>\n",
       "      <td>1.000000</td>\n",
       "      <td>5.000000</td>\n",
       "    </tr>\n",
       "    <tr>\n",
       "      <th>25%</th>\n",
       "      <td>1000.750000</td>\n",
       "      <td>7.000000</td>\n",
       "    </tr>\n",
       "    <tr>\n",
       "      <th>50%</th>\n",
       "      <td>2000.500000</td>\n",
       "      <td>14.000000</td>\n",
       "    </tr>\n",
       "    <tr>\n",
       "      <th>75%</th>\n",
       "      <td>3000.250000</td>\n",
       "      <td>42.000000</td>\n",
       "    </tr>\n",
       "    <tr>\n",
       "      <th>max</th>\n",
       "      <td>4000.000000</td>\n",
       "      <td>113422.000000</td>\n",
       "    </tr>\n",
       "  </tbody>\n",
       "</table>\n",
       "</div>"
      ],
      "text/plain": [
       "                Id          Count\n",
       "count  4000.000000    4000.000000\n",
       "mean   2000.500000      93.162000\n",
       "std    1154.844867    1804.997654\n",
       "min       1.000000       5.000000\n",
       "25%    1000.750000       7.000000\n",
       "50%    2000.500000      14.000000\n",
       "75%    3000.250000      42.000000\n",
       "max    4000.000000  113422.000000"
      ]
     },
     "execution_count": 33,
     "metadata": {},
     "output_type": "execute_result"
    }
   ],
   "source": [
    "#shows basic stats of the dataframe\n",
    "df.describe()"
   ]
  },
  {
   "cell_type": "code",
   "execution_count": 34,
   "metadata": {},
   "outputs": [
    {
     "data": {
      "text/plain": [
       "0       AAAAAAAAAAAAAAAAAAAAAAAAAAAAAAA\n",
       "1       CAGGACTCCAATATAGAGATAAGTTAATGTC\n",
       "2       TATGTAATTGGTTCCAGTGTGAGTCATTAAA\n",
       "3       GATATTTTCGAAAAGTGGGATTTTTTAAACC\n",
       "4       CTCCATCTCAGGTATTAGAATGAATGCTTAC\n",
       "                     ...               \n",
       "3995    AGCTGCAGGAACTCCCTCGTCACAGCTTAAA\n",
       "3996    CTGAGCTCTCTGGGAAAGTCGTGTTCCGGAA\n",
       "3997    GTCTGCCTTTATGGCCTTTGTACTCAAAGAA\n",
       "3998    AGACTATAGTGAGCTCAGGTGATTGATACTC\n",
       "3999    AAACCCAGTCACTGGACACCTAAGTGTCCAC\n",
       "Name: Seq, Length: 4000, dtype: object"
      ]
     },
     "execution_count": 34,
     "metadata": {},
     "output_type": "execute_result"
    }
   ],
   "source": [
    "#get a column out\n",
    "df[\"Seq\"]"
   ]
  },
  {
   "cell_type": "code",
   "execution_count": 36,
   "metadata": {},
   "outputs": [
    {
     "data": {
      "text/html": [
       "<div>\n",
       "<style scoped>\n",
       "    .dataframe tbody tr th:only-of-type {\n",
       "        vertical-align: middle;\n",
       "    }\n",
       "\n",
       "    .dataframe tbody tr th {\n",
       "        vertical-align: top;\n",
       "    }\n",
       "\n",
       "    .dataframe thead th {\n",
       "        text-align: right;\n",
       "    }\n",
       "</style>\n",
       "<table border=\"1\" class=\"dataframe\">\n",
       "  <thead>\n",
       "    <tr style=\"text-align: right;\">\n",
       "      <th></th>\n",
       "      <th>Seq</th>\n",
       "      <th>Id</th>\n",
       "      <th>Count</th>\n",
       "      <th>new</th>\n",
       "    </tr>\n",
       "  </thead>\n",
       "  <tbody>\n",
       "    <tr>\n",
       "      <th>0</th>\n",
       "      <td>AAAAAAAAAAAAAAAAAAAAAAAAAAAAAAA</td>\n",
       "      <td>1</td>\n",
       "      <td>113422</td>\n",
       "      <td>23</td>\n",
       "    </tr>\n",
       "    <tr>\n",
       "      <th>1</th>\n",
       "      <td>CAGGACTCCAATATAGAGATAAGTTAATGTC</td>\n",
       "      <td>2</td>\n",
       "      <td>93</td>\n",
       "      <td>23</td>\n",
       "    </tr>\n",
       "    <tr>\n",
       "      <th>2</th>\n",
       "      <td>TATGTAATTGGTTCCAGTGTGAGTCATTAAA</td>\n",
       "      <td>3</td>\n",
       "      <td>5</td>\n",
       "      <td>23</td>\n",
       "    </tr>\n",
       "    <tr>\n",
       "      <th>3</th>\n",
       "      <td>GATATTTTCGAAAAGTGGGATTTTTTAAACC</td>\n",
       "      <td>4</td>\n",
       "      <td>88</td>\n",
       "      <td>23</td>\n",
       "    </tr>\n",
       "    <tr>\n",
       "      <th>4</th>\n",
       "      <td>CTCCATCTCAGGTATTAGAATGAATGCTTAC</td>\n",
       "      <td>5</td>\n",
       "      <td>7</td>\n",
       "      <td>23</td>\n",
       "    </tr>\n",
       "    <tr>\n",
       "      <th>...</th>\n",
       "      <td>...</td>\n",
       "      <td>...</td>\n",
       "      <td>...</td>\n",
       "      <td>...</td>\n",
       "    </tr>\n",
       "    <tr>\n",
       "      <th>3995</th>\n",
       "      <td>AGCTGCAGGAACTCCCTCGTCACAGCTTAAA</td>\n",
       "      <td>3996</td>\n",
       "      <td>5</td>\n",
       "      <td>23</td>\n",
       "    </tr>\n",
       "    <tr>\n",
       "      <th>3996</th>\n",
       "      <td>CTGAGCTCTCTGGGAAAGTCGTGTTCCGGAA</td>\n",
       "      <td>3997</td>\n",
       "      <td>5</td>\n",
       "      <td>23</td>\n",
       "    </tr>\n",
       "    <tr>\n",
       "      <th>3997</th>\n",
       "      <td>GTCTGCCTTTATGGCCTTTGTACTCAAAGAA</td>\n",
       "      <td>3998</td>\n",
       "      <td>10</td>\n",
       "      <td>23</td>\n",
       "    </tr>\n",
       "    <tr>\n",
       "      <th>3998</th>\n",
       "      <td>AGACTATAGTGAGCTCAGGTGATTGATACTC</td>\n",
       "      <td>3999</td>\n",
       "      <td>7</td>\n",
       "      <td>23</td>\n",
       "    </tr>\n",
       "    <tr>\n",
       "      <th>3999</th>\n",
       "      <td>AAACCCAGTCACTGGACACCTAAGTGTCCAC</td>\n",
       "      <td>4000</td>\n",
       "      <td>11</td>\n",
       "      <td>23</td>\n",
       "    </tr>\n",
       "  </tbody>\n",
       "</table>\n",
       "<p>4000 rows × 4 columns</p>\n",
       "</div>"
      ],
      "text/plain": [
       "                                  Seq    Id   Count  new\n",
       "0     AAAAAAAAAAAAAAAAAAAAAAAAAAAAAAA     1  113422   23\n",
       "1     CAGGACTCCAATATAGAGATAAGTTAATGTC     2      93   23\n",
       "2     TATGTAATTGGTTCCAGTGTGAGTCATTAAA     3       5   23\n",
       "3     GATATTTTCGAAAAGTGGGATTTTTTAAACC     4      88   23\n",
       "4     CTCCATCTCAGGTATTAGAATGAATGCTTAC     5       7   23\n",
       "...                               ...   ...     ...  ...\n",
       "3995  AGCTGCAGGAACTCCCTCGTCACAGCTTAAA  3996       5   23\n",
       "3996  CTGAGCTCTCTGGGAAAGTCGTGTTCCGGAA  3997       5   23\n",
       "3997  GTCTGCCTTTATGGCCTTTGTACTCAAAGAA  3998      10   23\n",
       "3998  AGACTATAGTGAGCTCAGGTGATTGATACTC  3999       7   23\n",
       "3999  AAACCCAGTCACTGGACACCTAAGTGTCCAC  4000      11   23\n",
       "\n",
       "[4000 rows x 4 columns]"
      ]
     },
     "execution_count": 36,
     "metadata": {},
     "output_type": "execute_result"
    }
   ],
   "source": [
    "#add a column\n",
    "df[\"new\"] = 23\n",
    "\n",
    "df"
   ]
  },
  {
   "cell_type": "markdown",
   "metadata": {},
   "source": [
    "(Arithmetics on columns)"
   ]
  },
  {
   "cell_type": "code",
   "execution_count": 40,
   "metadata": {},
   "outputs": [
    {
     "data": {
      "text/html": [
       "<div>\n",
       "<style scoped>\n",
       "    .dataframe tbody tr th:only-of-type {\n",
       "        vertical-align: middle;\n",
       "    }\n",
       "\n",
       "    .dataframe tbody tr th {\n",
       "        vertical-align: top;\n",
       "    }\n",
       "\n",
       "    .dataframe thead th {\n",
       "        text-align: right;\n",
       "    }\n",
       "</style>\n",
       "<table border=\"1\" class=\"dataframe\">\n",
       "  <thead>\n",
       "    <tr style=\"text-align: right;\">\n",
       "      <th></th>\n",
       "      <th>Seq</th>\n",
       "      <th>Id</th>\n",
       "      <th>Count</th>\n",
       "      <th>new</th>\n",
       "      <th>frac</th>\n",
       "    </tr>\n",
       "  </thead>\n",
       "  <tbody>\n",
       "    <tr>\n",
       "      <th>0</th>\n",
       "      <td>AAAAAAAAAAAAAAAAAAAAAAAAAAAAAAA</td>\n",
       "      <td>1</td>\n",
       "      <td>113422</td>\n",
       "      <td>23</td>\n",
       "      <td>30.436766</td>\n",
       "    </tr>\n",
       "    <tr>\n",
       "      <th>1</th>\n",
       "      <td>CAGGACTCCAATATAGAGATAAGTTAATGTC</td>\n",
       "      <td>2</td>\n",
       "      <td>93</td>\n",
       "      <td>23</td>\n",
       "      <td>0.024957</td>\n",
       "    </tr>\n",
       "    <tr>\n",
       "      <th>2</th>\n",
       "      <td>TATGTAATTGGTTCCAGTGTGAGTCATTAAA</td>\n",
       "      <td>3</td>\n",
       "      <td>5</td>\n",
       "      <td>23</td>\n",
       "      <td>0.001342</td>\n",
       "    </tr>\n",
       "    <tr>\n",
       "      <th>3</th>\n",
       "      <td>GATATTTTCGAAAAGTGGGATTTTTTAAACC</td>\n",
       "      <td>4</td>\n",
       "      <td>88</td>\n",
       "      <td>23</td>\n",
       "      <td>0.023615</td>\n",
       "    </tr>\n",
       "    <tr>\n",
       "      <th>4</th>\n",
       "      <td>CTCCATCTCAGGTATTAGAATGAATGCTTAC</td>\n",
       "      <td>5</td>\n",
       "      <td>7</td>\n",
       "      <td>23</td>\n",
       "      <td>0.001878</td>\n",
       "    </tr>\n",
       "    <tr>\n",
       "      <th>...</th>\n",
       "      <td>...</td>\n",
       "      <td>...</td>\n",
       "      <td>...</td>\n",
       "      <td>...</td>\n",
       "      <td>...</td>\n",
       "    </tr>\n",
       "    <tr>\n",
       "      <th>3995</th>\n",
       "      <td>AGCTGCAGGAACTCCCTCGTCACAGCTTAAA</td>\n",
       "      <td>3996</td>\n",
       "      <td>5</td>\n",
       "      <td>23</td>\n",
       "      <td>0.001342</td>\n",
       "    </tr>\n",
       "    <tr>\n",
       "      <th>3996</th>\n",
       "      <td>CTGAGCTCTCTGGGAAAGTCGTGTTCCGGAA</td>\n",
       "      <td>3997</td>\n",
       "      <td>5</td>\n",
       "      <td>23</td>\n",
       "      <td>0.001342</td>\n",
       "    </tr>\n",
       "    <tr>\n",
       "      <th>3997</th>\n",
       "      <td>GTCTGCCTTTATGGCCTTTGTACTCAAAGAA</td>\n",
       "      <td>3998</td>\n",
       "      <td>10</td>\n",
       "      <td>23</td>\n",
       "      <td>0.002683</td>\n",
       "    </tr>\n",
       "    <tr>\n",
       "      <th>3998</th>\n",
       "      <td>AGACTATAGTGAGCTCAGGTGATTGATACTC</td>\n",
       "      <td>3999</td>\n",
       "      <td>7</td>\n",
       "      <td>23</td>\n",
       "      <td>0.001878</td>\n",
       "    </tr>\n",
       "    <tr>\n",
       "      <th>3999</th>\n",
       "      <td>AAACCCAGTCACTGGACACCTAAGTGTCCAC</td>\n",
       "      <td>4000</td>\n",
       "      <td>11</td>\n",
       "      <td>23</td>\n",
       "      <td>0.002952</td>\n",
       "    </tr>\n",
       "  </tbody>\n",
       "</table>\n",
       "<p>4000 rows × 5 columns</p>\n",
       "</div>"
      ],
      "text/plain": [
       "                                  Seq    Id   Count  new       frac\n",
       "0     AAAAAAAAAAAAAAAAAAAAAAAAAAAAAAA     1  113422   23  30.436766\n",
       "1     CAGGACTCCAATATAGAGATAAGTTAATGTC     2      93   23   0.024957\n",
       "2     TATGTAATTGGTTCCAGTGTGAGTCATTAAA     3       5   23   0.001342\n",
       "3     GATATTTTCGAAAAGTGGGATTTTTTAAACC     4      88   23   0.023615\n",
       "4     CTCCATCTCAGGTATTAGAATGAATGCTTAC     5       7   23   0.001878\n",
       "...                               ...   ...     ...  ...        ...\n",
       "3995  AGCTGCAGGAACTCCCTCGTCACAGCTTAAA  3996       5   23   0.001342\n",
       "3996  CTGAGCTCTCTGGGAAAGTCGTGTTCCGGAA  3997       5   23   0.001342\n",
       "3997  GTCTGCCTTTATGGCCTTTGTACTCAAAGAA  3998      10   23   0.002683\n",
       "3998  AGACTATAGTGAGCTCAGGTGATTGATACTC  3999       7   23   0.001878\n",
       "3999  AAACCCAGTCACTGGACACCTAAGTGTCCAC  4000      11   23   0.002952\n",
       "\n",
       "[4000 rows x 5 columns]"
      ]
     },
     "execution_count": 40,
     "metadata": {},
     "output_type": "execute_result"
    }
   ],
   "source": [
    "#you can do math on columns and rows\n",
    "df[\"frac\"]=df.Count/sum(df.Count)*100\n",
    "df"
   ]
  },
  {
   "cell_type": "code",
   "execution_count": 42,
   "metadata": {},
   "outputs": [],
   "source": [
    "#how many seq have a count of above 100\n",
    "a = df.Count >= 100"
   ]
  },
  {
   "cell_type": "code",
   "execution_count": 43,
   "metadata": {},
   "outputs": [
    {
     "data": {
      "text/plain": [
       "543"
      ]
     },
     "execution_count": 43,
     "metadata": {},
     "output_type": "execute_result"
    }
   ],
   "source": [
    "#how many seq have a count of above 100 -> add to get total number\n",
    "sum(a)"
   ]
  },
  {
   "cell_type": "code",
   "execution_count": 44,
   "metadata": {},
   "outputs": [
    {
     "data": {
      "text/plain": [
       "0       AAAAAAAAAAAAAAAAAAAAAAAAAAAAAAA\n",
       "6       CTTCCATGGCTGTCCGGATCGCCGCACTGCA\n",
       "7       GCACCAGGCCTTTCTCTAGAAGTCCTGAGAC\n",
       "11      ATCAATCGACTCAGATGATCAGTTTTGGTAG\n",
       "15      GGCCTGGGCTGGAAACAGCTCTGTGTGTGAA\n",
       "                     ...               \n",
       "3969    AGTTTTCTAAAAAGGGGGAGAGTTGTGAAAG\n",
       "3973    ATTATCTGGGCGTGGTGGCATGTGCCTGTAG\n",
       "3975    CCTATGCTTTCCTTGGCATCGGCTACACATC\n",
       "3987    AAGGGTGTCCTGCTCCTTGACCACGATGGGG\n",
       "3994    AACCCAAGGAAAGAGAAATGCTGGGGTGTAT\n",
       "Name: Seq, Length: 543, dtype: object"
      ]
     },
     "execution_count": 44,
     "metadata": {},
     "output_type": "execute_result"
    }
   ],
   "source": [
    "#extract the values of each seq that have a count of above 100\n",
    "df.Seq[a]\n"
   ]
  },
  {
   "cell_type": "markdown",
   "metadata": {},
   "source": [
    "## Guided exercise(s) here..."
   ]
  },
  {
   "cell_type": "markdown",
   "metadata": {},
   "source": [
    "### 1) Add a column with nucleotide count (A)\n",
    "([loc](https://pandas.pydata.org/docs/reference/api/pandas.DataFrame.loc.html)[*row*,*col*], .[apply](https://pandas.pydata.org/docs/reference/api/pandas.DataFrame.apply.html)())"
   ]
  },
  {
   "cell_type": "code",
   "execution_count": 59,
   "metadata": {},
   "outputs": [
    {
     "data": {
      "text/html": [
       "<div>\n",
       "<style scoped>\n",
       "    .dataframe tbody tr th:only-of-type {\n",
       "        vertical-align: middle;\n",
       "    }\n",
       "\n",
       "    .dataframe tbody tr th {\n",
       "        vertical-align: top;\n",
       "    }\n",
       "\n",
       "    .dataframe thead th {\n",
       "        text-align: right;\n",
       "    }\n",
       "</style>\n",
       "<table border=\"1\" class=\"dataframe\">\n",
       "  <thead>\n",
       "    <tr style=\"text-align: right;\">\n",
       "      <th></th>\n",
       "      <th>Seq</th>\n",
       "      <th>Id</th>\n",
       "      <th>Count</th>\n",
       "      <th>new</th>\n",
       "      <th>frac</th>\n",
       "      <th>CountA</th>\n",
       "    </tr>\n",
       "  </thead>\n",
       "  <tbody>\n",
       "    <tr>\n",
       "      <th>0</th>\n",
       "      <td>AAAAAAAAAAAAAAAAAAAAAAAAAAAAAAA</td>\n",
       "      <td>1</td>\n",
       "      <td>113422</td>\n",
       "      <td>23</td>\n",
       "      <td>30.436766</td>\n",
       "      <td>31</td>\n",
       "    </tr>\n",
       "    <tr>\n",
       "      <th>6</th>\n",
       "      <td>CTTCCATGGCTGTCCGGATCGCCGCACTGCA</td>\n",
       "      <td>7</td>\n",
       "      <td>299</td>\n",
       "      <td>23</td>\n",
       "      <td>0.080237</td>\n",
       "      <td>4</td>\n",
       "    </tr>\n",
       "    <tr>\n",
       "      <th>7</th>\n",
       "      <td>GCACCAGGCCTTTCTCTAGAAGTCCTGAGAC</td>\n",
       "      <td>8</td>\n",
       "      <td>128</td>\n",
       "      <td>23</td>\n",
       "      <td>0.034349</td>\n",
       "      <td>7</td>\n",
       "    </tr>\n",
       "    <tr>\n",
       "      <th>11</th>\n",
       "      <td>ATCAATCGACTCAGATGATCAGTTTTGGTAG</td>\n",
       "      <td>12</td>\n",
       "      <td>252</td>\n",
       "      <td>23</td>\n",
       "      <td>0.067624</td>\n",
       "      <td>9</td>\n",
       "    </tr>\n",
       "    <tr>\n",
       "      <th>15</th>\n",
       "      <td>GGCCTGGGCTGGAAACAGCTCTGTGTGTGAA</td>\n",
       "      <td>16</td>\n",
       "      <td>330</td>\n",
       "      <td>23</td>\n",
       "      <td>0.088555</td>\n",
       "      <td>6</td>\n",
       "    </tr>\n",
       "    <tr>\n",
       "      <th>...</th>\n",
       "      <td>...</td>\n",
       "      <td>...</td>\n",
       "      <td>...</td>\n",
       "      <td>...</td>\n",
       "      <td>...</td>\n",
       "      <td>...</td>\n",
       "    </tr>\n",
       "    <tr>\n",
       "      <th>3969</th>\n",
       "      <td>AGTTTTCTAAAAAGGGGGAGAGTTGTGAAAG</td>\n",
       "      <td>3970</td>\n",
       "      <td>112</td>\n",
       "      <td>23</td>\n",
       "      <td>0.030055</td>\n",
       "      <td>11</td>\n",
       "    </tr>\n",
       "    <tr>\n",
       "      <th>3973</th>\n",
       "      <td>ATTATCTGGGCGTGGTGGCATGTGCCTGTAG</td>\n",
       "      <td>3974</td>\n",
       "      <td>130</td>\n",
       "      <td>23</td>\n",
       "      <td>0.034885</td>\n",
       "      <td>4</td>\n",
       "    </tr>\n",
       "    <tr>\n",
       "      <th>3975</th>\n",
       "      <td>CCTATGCTTTCCTTGGCATCGGCTACACATC</td>\n",
       "      <td>3976</td>\n",
       "      <td>352</td>\n",
       "      <td>23</td>\n",
       "      <td>0.094459</td>\n",
       "      <td>5</td>\n",
       "    </tr>\n",
       "    <tr>\n",
       "      <th>3987</th>\n",
       "      <td>AAGGGTGTCCTGCTCCTTGACCACGATGGGG</td>\n",
       "      <td>3988</td>\n",
       "      <td>172</td>\n",
       "      <td>23</td>\n",
       "      <td>0.046156</td>\n",
       "      <td>5</td>\n",
       "    </tr>\n",
       "    <tr>\n",
       "      <th>3994</th>\n",
       "      <td>AACCCAAGGAAAGAGAAATGCTGGGGTGTAT</td>\n",
       "      <td>3995</td>\n",
       "      <td>117</td>\n",
       "      <td>23</td>\n",
       "      <td>0.031397</td>\n",
       "      <td>12</td>\n",
       "    </tr>\n",
       "  </tbody>\n",
       "</table>\n",
       "<p>543 rows × 6 columns</p>\n",
       "</div>"
      ],
      "text/plain": [
       "                                  Seq    Id   Count  new       frac  CountA\n",
       "0     AAAAAAAAAAAAAAAAAAAAAAAAAAAAAAA     1  113422   23  30.436766      31\n",
       "6     CTTCCATGGCTGTCCGGATCGCCGCACTGCA     7     299   23   0.080237       4\n",
       "7     GCACCAGGCCTTTCTCTAGAAGTCCTGAGAC     8     128   23   0.034349       7\n",
       "11    ATCAATCGACTCAGATGATCAGTTTTGGTAG    12     252   23   0.067624       9\n",
       "15    GGCCTGGGCTGGAAACAGCTCTGTGTGTGAA    16     330   23   0.088555       6\n",
       "...                               ...   ...     ...  ...        ...     ...\n",
       "3969  AGTTTTCTAAAAAGGGGGAGAGTTGTGAAAG  3970     112   23   0.030055      11\n",
       "3973  ATTATCTGGGCGTGGTGGCATGTGCCTGTAG  3974     130   23   0.034885       4\n",
       "3975  CCTATGCTTTCCTTGGCATCGGCTACACATC  3976     352   23   0.094459       5\n",
       "3987  AAGGGTGTCCTGCTCCTTGACCACGATGGGG  3988     172   23   0.046156       5\n",
       "3994  AACCCAAGGAAAGAGAAATGCTGGGGTGTAT  3995     117   23   0.031397      12\n",
       "\n",
       "[543 rows x 6 columns]"
      ]
     },
     "execution_count": 59,
     "metadata": {},
     "output_type": "execute_result"
    }
   ],
   "source": [
    "#loc is useful to extract all culumns of a df based on a specified criteria\n",
    "df.loc[a]"
   ]
  },
  {
   "cell_type": "code",
   "execution_count": 50,
   "metadata": {},
   "outputs": [],
   "source": [
    "def count_nucl(my_seq, nucl):\n",
    "    total = 0\n",
    "    for c in my_seq:\n",
    "        if c == nucl:\n",
    "            total = total+1\n",
    "    return total"
   ]
  },
  {
   "cell_type": "markdown",
   "metadata": {},
   "source": [
    "(First step: We'll try to first apply it to the second row, counting As only)"
   ]
  },
  {
   "cell_type": "code",
   "execution_count": 51,
   "metadata": {},
   "outputs": [
    {
     "data": {
      "text/plain": [
       "12"
      ]
     },
     "execution_count": 51,
     "metadata": {},
     "output_type": "execute_result"
    }
   ],
   "source": [
    "count_nucl(df.Seq[1], \"A\")"
   ]
  },
  {
   "cell_type": "markdown",
   "metadata": {},
   "source": [
    "(Doc: https://pandas.pydata.org/pandas-docs/stable/reference/api/pandas.DataFrame.loc.html)"
   ]
  },
  {
   "cell_type": "code",
   "execution_count": 54,
   "metadata": {
    "scrolled": true
   },
   "outputs": [
    {
     "data": {
      "text/plain": [
       "0       5\n",
       "1       5\n",
       "2       5\n",
       "3       5\n",
       "4       5\n",
       "       ..\n",
       "3995    5\n",
       "3996    5\n",
       "3997    5\n",
       "3998    5\n",
       "3999    5\n",
       "Length: 4000, dtype: int64"
      ]
     },
     "execution_count": 54,
     "metadata": {},
     "output_type": "execute_result"
    }
   ],
   "source": [
    "#get the lenght of each row (axis=1) or column (axis=0)\n",
    "#basically apply extracts 1 row/column and applies a specified function to it and it does that for all rows/columns\n",
    "df.apply(len, axis=1)"
   ]
  },
  {
   "cell_type": "markdown",
   "metadata": {},
   "source": [
    "(Doc: https://pandas.pydata.org/pandas-docs/stable/reference/api/pandas.DataFrame.apply.html)"
   ]
  },
  {
   "cell_type": "code",
   "execution_count": 55,
   "metadata": {},
   "outputs": [],
   "source": [
    "def count_A(row):\n",
    "    return count_nucl(row.Seq, \"A\")"
   ]
  },
  {
   "cell_type": "markdown",
   "metadata": {},
   "source": [
    "(Whiz-kid corner: lambda expressions, https://docs.python.org/3/tutorial/controlflow.html#lambda-expressions)"
   ]
  },
  {
   "cell_type": "code",
   "execution_count": 56,
   "metadata": {},
   "outputs": [
    {
     "data": {
      "text/plain": [
       "0       31\n",
       "1       12\n",
       "2        9\n",
       "3       10\n",
       "4        9\n",
       "        ..\n",
       "3995     9\n",
       "3996     6\n",
       "3997     7\n",
       "3998     9\n",
       "3999    10\n",
       "Length: 4000, dtype: int64"
      ]
     },
     "execution_count": 56,
     "metadata": {},
     "output_type": "execute_result"
    }
   ],
   "source": [
    "df.apply(count_A, axis=1)"
   ]
  },
  {
   "cell_type": "code",
   "execution_count": 58,
   "metadata": {},
   "outputs": [
    {
     "data": {
      "text/html": [
       "<div>\n",
       "<style scoped>\n",
       "    .dataframe tbody tr th:only-of-type {\n",
       "        vertical-align: middle;\n",
       "    }\n",
       "\n",
       "    .dataframe tbody tr th {\n",
       "        vertical-align: top;\n",
       "    }\n",
       "\n",
       "    .dataframe thead th {\n",
       "        text-align: right;\n",
       "    }\n",
       "</style>\n",
       "<table border=\"1\" class=\"dataframe\">\n",
       "  <thead>\n",
       "    <tr style=\"text-align: right;\">\n",
       "      <th></th>\n",
       "      <th>Seq</th>\n",
       "      <th>Id</th>\n",
       "      <th>Count</th>\n",
       "      <th>new</th>\n",
       "      <th>frac</th>\n",
       "      <th>CountA</th>\n",
       "    </tr>\n",
       "  </thead>\n",
       "  <tbody>\n",
       "    <tr>\n",
       "      <th>0</th>\n",
       "      <td>AAAAAAAAAAAAAAAAAAAAAAAAAAAAAAA</td>\n",
       "      <td>1</td>\n",
       "      <td>113422</td>\n",
       "      <td>23</td>\n",
       "      <td>30.436766</td>\n",
       "      <td>31</td>\n",
       "    </tr>\n",
       "    <tr>\n",
       "      <th>1</th>\n",
       "      <td>CAGGACTCCAATATAGAGATAAGTTAATGTC</td>\n",
       "      <td>2</td>\n",
       "      <td>93</td>\n",
       "      <td>23</td>\n",
       "      <td>0.024957</td>\n",
       "      <td>12</td>\n",
       "    </tr>\n",
       "    <tr>\n",
       "      <th>2</th>\n",
       "      <td>TATGTAATTGGTTCCAGTGTGAGTCATTAAA</td>\n",
       "      <td>3</td>\n",
       "      <td>5</td>\n",
       "      <td>23</td>\n",
       "      <td>0.001342</td>\n",
       "      <td>9</td>\n",
       "    </tr>\n",
       "    <tr>\n",
       "      <th>3</th>\n",
       "      <td>GATATTTTCGAAAAGTGGGATTTTTTAAACC</td>\n",
       "      <td>4</td>\n",
       "      <td>88</td>\n",
       "      <td>23</td>\n",
       "      <td>0.023615</td>\n",
       "      <td>10</td>\n",
       "    </tr>\n",
       "    <tr>\n",
       "      <th>4</th>\n",
       "      <td>CTCCATCTCAGGTATTAGAATGAATGCTTAC</td>\n",
       "      <td>5</td>\n",
       "      <td>7</td>\n",
       "      <td>23</td>\n",
       "      <td>0.001878</td>\n",
       "      <td>9</td>\n",
       "    </tr>\n",
       "    <tr>\n",
       "      <th>...</th>\n",
       "      <td>...</td>\n",
       "      <td>...</td>\n",
       "      <td>...</td>\n",
       "      <td>...</td>\n",
       "      <td>...</td>\n",
       "      <td>...</td>\n",
       "    </tr>\n",
       "    <tr>\n",
       "      <th>3995</th>\n",
       "      <td>AGCTGCAGGAACTCCCTCGTCACAGCTTAAA</td>\n",
       "      <td>3996</td>\n",
       "      <td>5</td>\n",
       "      <td>23</td>\n",
       "      <td>0.001342</td>\n",
       "      <td>9</td>\n",
       "    </tr>\n",
       "    <tr>\n",
       "      <th>3996</th>\n",
       "      <td>CTGAGCTCTCTGGGAAAGTCGTGTTCCGGAA</td>\n",
       "      <td>3997</td>\n",
       "      <td>5</td>\n",
       "      <td>23</td>\n",
       "      <td>0.001342</td>\n",
       "      <td>6</td>\n",
       "    </tr>\n",
       "    <tr>\n",
       "      <th>3997</th>\n",
       "      <td>GTCTGCCTTTATGGCCTTTGTACTCAAAGAA</td>\n",
       "      <td>3998</td>\n",
       "      <td>10</td>\n",
       "      <td>23</td>\n",
       "      <td>0.002683</td>\n",
       "      <td>7</td>\n",
       "    </tr>\n",
       "    <tr>\n",
       "      <th>3998</th>\n",
       "      <td>AGACTATAGTGAGCTCAGGTGATTGATACTC</td>\n",
       "      <td>3999</td>\n",
       "      <td>7</td>\n",
       "      <td>23</td>\n",
       "      <td>0.001878</td>\n",
       "      <td>9</td>\n",
       "    </tr>\n",
       "    <tr>\n",
       "      <th>3999</th>\n",
       "      <td>AAACCCAGTCACTGGACACCTAAGTGTCCAC</td>\n",
       "      <td>4000</td>\n",
       "      <td>11</td>\n",
       "      <td>23</td>\n",
       "      <td>0.002952</td>\n",
       "      <td>10</td>\n",
       "    </tr>\n",
       "  </tbody>\n",
       "</table>\n",
       "<p>4000 rows × 6 columns</p>\n",
       "</div>"
      ],
      "text/plain": [
       "                                  Seq    Id   Count  new       frac  CountA\n",
       "0     AAAAAAAAAAAAAAAAAAAAAAAAAAAAAAA     1  113422   23  30.436766      31\n",
       "1     CAGGACTCCAATATAGAGATAAGTTAATGTC     2      93   23   0.024957      12\n",
       "2     TATGTAATTGGTTCCAGTGTGAGTCATTAAA     3       5   23   0.001342       9\n",
       "3     GATATTTTCGAAAAGTGGGATTTTTTAAACC     4      88   23   0.023615      10\n",
       "4     CTCCATCTCAGGTATTAGAATGAATGCTTAC     5       7   23   0.001878       9\n",
       "...                               ...   ...     ...  ...        ...     ...\n",
       "3995  AGCTGCAGGAACTCCCTCGTCACAGCTTAAA  3996       5   23   0.001342       9\n",
       "3996  CTGAGCTCTCTGGGAAAGTCGTGTTCCGGAA  3997       5   23   0.001342       6\n",
       "3997  GTCTGCCTTTATGGCCTTTGTACTCAAAGAA  3998      10   23   0.002683       7\n",
       "3998  AGACTATAGTGAGCTCAGGTGATTGATACTC  3999       7   23   0.001878       9\n",
       "3999  AAACCCAGTCACTGGACACCTAAGTGTCCAC  4000      11   23   0.002952      10\n",
       "\n",
       "[4000 rows x 6 columns]"
      ]
     },
     "execution_count": 58,
     "metadata": {},
     "output_type": "execute_result"
    }
   ],
   "source": [
    "df[\"CountA\"] =df.apply(count_A, axis=1)\n",
    "df"
   ]
  },
  {
   "cell_type": "code",
   "execution_count": 61,
   "metadata": {},
   "outputs": [
    {
     "data": {
      "text/plain": [
       "0       31\n",
       "1       12\n",
       "2        9\n",
       "3       10\n",
       "4        9\n",
       "        ..\n",
       "3995     9\n",
       "3996     6\n",
       "3997     7\n",
       "3998     9\n",
       "3999    10\n",
       "Length: 4000, dtype: int64"
      ]
     },
     "execution_count": 61,
     "metadata": {},
     "output_type": "execute_result"
    }
   ],
   "source": [
    "#create a nameless function in order to use it on a df (lambda)\n",
    "df.apply(lambda row: count_nucl(row.Seq, \"A\"), axis=1)"
   ]
  },
  {
   "cell_type": "code",
   "execution_count": 62,
   "metadata": {},
   "outputs": [],
   "source": [
    "#create a function that creates a function ....\n",
    "\n",
    "def row_count_nucl(nucl):\n",
    "    def tmp(row):\n",
    "        return count_nucl(row.Seq, nucl)\n",
    "    return tmp"
   ]
  },
  {
   "cell_type": "code",
   "execution_count": 63,
   "metadata": {},
   "outputs": [],
   "source": [
    "f = row_count_nucl(\"A\")"
   ]
  },
  {
   "cell_type": "code",
   "execution_count": 64,
   "metadata": {},
   "outputs": [
    {
     "data": {
      "text/plain": [
       "0       31\n",
       "1       12\n",
       "2        9\n",
       "3       10\n",
       "4        9\n",
       "        ..\n",
       "3995     9\n",
       "3996     6\n",
       "3997     7\n",
       "3998     9\n",
       "3999    10\n",
       "Length: 4000, dtype: int64"
      ]
     },
     "execution_count": 64,
     "metadata": {},
     "output_type": "execute_result"
    }
   ],
   "source": [
    "df.apply(f, axis=1)"
   ]
  },
  {
   "cell_type": "markdown",
   "metadata": {},
   "source": [
    "### 2) Show the 10 sequences with the most number of A. How many reads do they represent? What % of the (truncated) transcriptome?\n",
    "(.sort_values())"
   ]
  },
  {
   "cell_type": "markdown",
   "metadata": {},
   "source": [
    "(Doc: https://pandas.pydata.org/pandas-docs/stable/reference/api/pandas.DataFrame.sort_values.html)"
   ]
  },
  {
   "cell_type": "code",
   "execution_count": 113,
   "metadata": {},
   "outputs": [
    {
     "name": "stdout",
     "output_type": "stream",
     "text": [
      "\n",
      "top 10 sequences with the most number of A\n",
      "0       AAAAAAAAAAAAAAAAAAAAAAAAAAAAAAA\n",
      "650     CAAAAAAAAAAAAACAAAAAACAAAAAAACA\n",
      "2507    AAATAACAAAAAATTAAAAAAAAAAAAAAAA\n",
      "3678    AAAACAAAAACAAAACAAACAAACAAAAAAG\n",
      "168     AAAAAAGATTAAAAAATTAAAAAAAAAAGAA\n",
      "2321    AATAACAGAAAGAAAACAAAAAGAAAAATAA\n",
      "3880    AAAGAAAGAAAAAGAAAAAAAAAATAGCACA\n",
      "2636    AAAATTAAAAAAAAAAAAAAAAAATTAGCCG\n",
      "3491    AAAAGAAGACAAAAGAAAAGAGAAAGAAGAA\n",
      "3186    ATAAATAAAAAGGAAAAGAAAAGAAAAGAAG\n",
      "Name: Seq, dtype: object\n",
      "\n",
      "total number of read of the top 10 sequences with the most number of A\n",
      "113578\n",
      "\n",
      "% of transcriptome\n",
      "30.478628625405207 %\n"
     ]
    }
   ],
   "source": [
    "#print(df.sort_values(by=\"CountA\", ascending=False).head(n=10))\n",
    "\n",
    "#sequence seulement\n",
    "print()\n",
    "print(\"top 10 sequences with the most number of A\")\n",
    "print(df.sort_values(by=\"CountA\", ascending=False).head(n=10).Seq)\n",
    "\n",
    "#number of read seulement\n",
    "print()\n",
    "print(\"total number of read of the top 10 sequences with the most number of A\")\n",
    "print(sum(df.sort_values(by=\"CountA\", ascending=False).head(n=10).Count))\n",
    "\n",
    "# % of truncated transcriptome\n",
    "print()\n",
    "print(\"% of transcriptome\")\n",
    "print(sum(df.sort_values(by=\"CountA\", ascending=False).head(n=10).Count)/sum(df.Count)*100, \"%\")\n",
    "\n"
   ]
  },
  {
   "cell_type": "markdown",
   "metadata": {},
   "source": [
    "### 3) How many sequences with 25 or more As? Then, check that the result is correct.\n",
    "(Cond. row selection)"
   ]
  },
  {
   "cell_type": "code",
   "execution_count": 92,
   "metadata": {},
   "outputs": [
    {
     "data": {
      "text/plain": [
       "5"
      ]
     },
     "execution_count": 92,
     "metadata": {},
     "output_type": "execute_result"
    }
   ],
   "source": [
    "#create the condition for sorting\n",
    "AAbove25 = df.CountA >= 25\n",
    "\n",
    "len(df.loc[AAbove25])"
   ]
  },
  {
   "cell_type": "markdown",
   "metadata": {
    "tags": []
   },
   "source": [
    "### 4) Clean up the dataframe (or re-load), add counts for all 4 nucl"
   ]
  },
  {
   "cell_type": "code",
   "execution_count": 100,
   "metadata": {
    "scrolled": true
   },
   "outputs": [
    {
     "data": {
      "text/html": [
       "<div>\n",
       "<style scoped>\n",
       "    .dataframe tbody tr th:only-of-type {\n",
       "        vertical-align: middle;\n",
       "    }\n",
       "\n",
       "    .dataframe tbody tr th {\n",
       "        vertical-align: top;\n",
       "    }\n",
       "\n",
       "    .dataframe thead th {\n",
       "        text-align: right;\n",
       "    }\n",
       "</style>\n",
       "<table border=\"1\" class=\"dataframe\">\n",
       "  <thead>\n",
       "    <tr style=\"text-align: right;\">\n",
       "      <th></th>\n",
       "      <th>Seq</th>\n",
       "      <th>Id</th>\n",
       "      <th>Count</th>\n",
       "      <th>CountA</th>\n",
       "      <th>CountT</th>\n",
       "      <th>CountC</th>\n",
       "      <th>CountG</th>\n",
       "    </tr>\n",
       "  </thead>\n",
       "  <tbody>\n",
       "    <tr>\n",
       "      <th>0</th>\n",
       "      <td>AAAAAAAAAAAAAAAAAAAAAAAAAAAAAAA</td>\n",
       "      <td>1</td>\n",
       "      <td>113422</td>\n",
       "      <td>31</td>\n",
       "      <td>0</td>\n",
       "      <td>0</td>\n",
       "      <td>0</td>\n",
       "    </tr>\n",
       "    <tr>\n",
       "      <th>1</th>\n",
       "      <td>CAGGACTCCAATATAGAGATAAGTTAATGTC</td>\n",
       "      <td>2</td>\n",
       "      <td>93</td>\n",
       "      <td>12</td>\n",
       "      <td>8</td>\n",
       "      <td>5</td>\n",
       "      <td>6</td>\n",
       "    </tr>\n",
       "    <tr>\n",
       "      <th>2</th>\n",
       "      <td>TATGTAATTGGTTCCAGTGTGAGTCATTAAA</td>\n",
       "      <td>3</td>\n",
       "      <td>5</td>\n",
       "      <td>9</td>\n",
       "      <td>12</td>\n",
       "      <td>3</td>\n",
       "      <td>7</td>\n",
       "    </tr>\n",
       "    <tr>\n",
       "      <th>3</th>\n",
       "      <td>GATATTTTCGAAAAGTGGGATTTTTTAAACC</td>\n",
       "      <td>4</td>\n",
       "      <td>88</td>\n",
       "      <td>10</td>\n",
       "      <td>12</td>\n",
       "      <td>3</td>\n",
       "      <td>6</td>\n",
       "    </tr>\n",
       "    <tr>\n",
       "      <th>4</th>\n",
       "      <td>CTCCATCTCAGGTATTAGAATGAATGCTTAC</td>\n",
       "      <td>5</td>\n",
       "      <td>7</td>\n",
       "      <td>9</td>\n",
       "      <td>10</td>\n",
       "      <td>7</td>\n",
       "      <td>5</td>\n",
       "    </tr>\n",
       "    <tr>\n",
       "      <th>...</th>\n",
       "      <td>...</td>\n",
       "      <td>...</td>\n",
       "      <td>...</td>\n",
       "      <td>...</td>\n",
       "      <td>...</td>\n",
       "      <td>...</td>\n",
       "      <td>...</td>\n",
       "    </tr>\n",
       "    <tr>\n",
       "      <th>3995</th>\n",
       "      <td>AGCTGCAGGAACTCCCTCGTCACAGCTTAAA</td>\n",
       "      <td>3996</td>\n",
       "      <td>5</td>\n",
       "      <td>9</td>\n",
       "      <td>6</td>\n",
       "      <td>10</td>\n",
       "      <td>6</td>\n",
       "    </tr>\n",
       "    <tr>\n",
       "      <th>3996</th>\n",
       "      <td>CTGAGCTCTCTGGGAAAGTCGTGTTCCGGAA</td>\n",
       "      <td>3997</td>\n",
       "      <td>5</td>\n",
       "      <td>6</td>\n",
       "      <td>8</td>\n",
       "      <td>7</td>\n",
       "      <td>10</td>\n",
       "    </tr>\n",
       "    <tr>\n",
       "      <th>3997</th>\n",
       "      <td>GTCTGCCTTTATGGCCTTTGTACTCAAAGAA</td>\n",
       "      <td>3998</td>\n",
       "      <td>10</td>\n",
       "      <td>7</td>\n",
       "      <td>11</td>\n",
       "      <td>7</td>\n",
       "      <td>6</td>\n",
       "    </tr>\n",
       "    <tr>\n",
       "      <th>3998</th>\n",
       "      <td>AGACTATAGTGAGCTCAGGTGATTGATACTC</td>\n",
       "      <td>3999</td>\n",
       "      <td>7</td>\n",
       "      <td>9</td>\n",
       "      <td>9</td>\n",
       "      <td>5</td>\n",
       "      <td>8</td>\n",
       "    </tr>\n",
       "    <tr>\n",
       "      <th>3999</th>\n",
       "      <td>AAACCCAGTCACTGGACACCTAAGTGTCCAC</td>\n",
       "      <td>4000</td>\n",
       "      <td>11</td>\n",
       "      <td>10</td>\n",
       "      <td>5</td>\n",
       "      <td>11</td>\n",
       "      <td>5</td>\n",
       "    </tr>\n",
       "  </tbody>\n",
       "</table>\n",
       "<p>4000 rows × 7 columns</p>\n",
       "</div>"
      ],
      "text/plain": [
       "                                  Seq    Id   Count  CountA  CountT  CountC  \\\n",
       "0     AAAAAAAAAAAAAAAAAAAAAAAAAAAAAAA     1  113422      31       0       0   \n",
       "1     CAGGACTCCAATATAGAGATAAGTTAATGTC     2      93      12       8       5   \n",
       "2     TATGTAATTGGTTCCAGTGTGAGTCATTAAA     3       5       9      12       3   \n",
       "3     GATATTTTCGAAAAGTGGGATTTTTTAAACC     4      88      10      12       3   \n",
       "4     CTCCATCTCAGGTATTAGAATGAATGCTTAC     5       7       9      10       7   \n",
       "...                               ...   ...     ...     ...     ...     ...   \n",
       "3995  AGCTGCAGGAACTCCCTCGTCACAGCTTAAA  3996       5       9       6      10   \n",
       "3996  CTGAGCTCTCTGGGAAAGTCGTGTTCCGGAA  3997       5       6       8       7   \n",
       "3997  GTCTGCCTTTATGGCCTTTGTACTCAAAGAA  3998      10       7      11       7   \n",
       "3998  AGACTATAGTGAGCTCAGGTGATTGATACTC  3999       7       9       9       5   \n",
       "3999  AAACCCAGTCACTGGACACCTAAGTGTCCAC  4000      11      10       5      11   \n",
       "\n",
       "      CountG  \n",
       "0          0  \n",
       "1          6  \n",
       "2          7  \n",
       "3          6  \n",
       "4          5  \n",
       "...      ...  \n",
       "3995       6  \n",
       "3996      10  \n",
       "3997       6  \n",
       "3998       8  \n",
       "3999       5  \n",
       "\n",
       "[4000 rows x 7 columns]"
      ]
     },
     "execution_count": 100,
     "metadata": {},
     "output_type": "execute_result"
    }
   ],
   "source": [
    "#reload df\n",
    "df = pandas.read_table(\"kmers.tsv\")\n",
    "\n",
    "#add count for all 4 nucl\n",
    "def row_count_nucl(nucl):\n",
    "    def tmp(row):\n",
    "        return count_nucl(row.Seq, nucl)\n",
    "    return tmp\n",
    "\n",
    "df[\"CountA\"] =df.apply(row_count_nucl(\"A\"), axis=1)\n",
    "df[\"CountT\"] =df.apply(row_count_nucl(\"T\"), axis=1)\n",
    "df[\"CountC\"] =df.apply(row_count_nucl(\"C\"), axis=1)\n",
    "df[\"CountG\"] =df.apply(row_count_nucl(\"G\"), axis=1)\n",
    "\n",
    "df"
   ]
  },
  {
   "cell_type": "markdown",
   "metadata": {},
   "source": [
    "(Whiz kid corner: a function returning a function)"
   ]
  },
  {
   "cell_type": "code",
   "execution_count": null,
   "metadata": {},
   "outputs": [],
   "source": []
  },
  {
   "cell_type": "markdown",
   "metadata": {},
   "source": [
    "### 5) Add a %GC column"
   ]
  },
  {
   "cell_type": "code",
   "execution_count": 107,
   "metadata": {},
   "outputs": [
    {
     "data": {
      "text/html": [
       "<div>\n",
       "<style scoped>\n",
       "    .dataframe tbody tr th:only-of-type {\n",
       "        vertical-align: middle;\n",
       "    }\n",
       "\n",
       "    .dataframe tbody tr th {\n",
       "        vertical-align: top;\n",
       "    }\n",
       "\n",
       "    .dataframe thead th {\n",
       "        text-align: right;\n",
       "    }\n",
       "</style>\n",
       "<table border=\"1\" class=\"dataframe\">\n",
       "  <thead>\n",
       "    <tr style=\"text-align: right;\">\n",
       "      <th></th>\n",
       "      <th>Seq</th>\n",
       "      <th>Id</th>\n",
       "      <th>Count</th>\n",
       "      <th>CountA</th>\n",
       "      <th>CountT</th>\n",
       "      <th>CountC</th>\n",
       "      <th>CountG</th>\n",
       "      <th>%GC</th>\n",
       "    </tr>\n",
       "  </thead>\n",
       "  <tbody>\n",
       "    <tr>\n",
       "      <th>0</th>\n",
       "      <td>AAAAAAAAAAAAAAAAAAAAAAAAAAAAAAA</td>\n",
       "      <td>1</td>\n",
       "      <td>113422</td>\n",
       "      <td>31</td>\n",
       "      <td>0</td>\n",
       "      <td>0</td>\n",
       "      <td>0</td>\n",
       "      <td>0.000000</td>\n",
       "    </tr>\n",
       "    <tr>\n",
       "      <th>1</th>\n",
       "      <td>CAGGACTCCAATATAGAGATAAGTTAATGTC</td>\n",
       "      <td>2</td>\n",
       "      <td>93</td>\n",
       "      <td>12</td>\n",
       "      <td>8</td>\n",
       "      <td>5</td>\n",
       "      <td>6</td>\n",
       "      <td>35.483871</td>\n",
       "    </tr>\n",
       "    <tr>\n",
       "      <th>2</th>\n",
       "      <td>TATGTAATTGGTTCCAGTGTGAGTCATTAAA</td>\n",
       "      <td>3</td>\n",
       "      <td>5</td>\n",
       "      <td>9</td>\n",
       "      <td>12</td>\n",
       "      <td>3</td>\n",
       "      <td>7</td>\n",
       "      <td>32.258065</td>\n",
       "    </tr>\n",
       "    <tr>\n",
       "      <th>3</th>\n",
       "      <td>GATATTTTCGAAAAGTGGGATTTTTTAAACC</td>\n",
       "      <td>4</td>\n",
       "      <td>88</td>\n",
       "      <td>10</td>\n",
       "      <td>12</td>\n",
       "      <td>3</td>\n",
       "      <td>6</td>\n",
       "      <td>29.032258</td>\n",
       "    </tr>\n",
       "    <tr>\n",
       "      <th>4</th>\n",
       "      <td>CTCCATCTCAGGTATTAGAATGAATGCTTAC</td>\n",
       "      <td>5</td>\n",
       "      <td>7</td>\n",
       "      <td>9</td>\n",
       "      <td>10</td>\n",
       "      <td>7</td>\n",
       "      <td>5</td>\n",
       "      <td>38.709677</td>\n",
       "    </tr>\n",
       "    <tr>\n",
       "      <th>...</th>\n",
       "      <td>...</td>\n",
       "      <td>...</td>\n",
       "      <td>...</td>\n",
       "      <td>...</td>\n",
       "      <td>...</td>\n",
       "      <td>...</td>\n",
       "      <td>...</td>\n",
       "      <td>...</td>\n",
       "    </tr>\n",
       "    <tr>\n",
       "      <th>3995</th>\n",
       "      <td>AGCTGCAGGAACTCCCTCGTCACAGCTTAAA</td>\n",
       "      <td>3996</td>\n",
       "      <td>5</td>\n",
       "      <td>9</td>\n",
       "      <td>6</td>\n",
       "      <td>10</td>\n",
       "      <td>6</td>\n",
       "      <td>51.612903</td>\n",
       "    </tr>\n",
       "    <tr>\n",
       "      <th>3996</th>\n",
       "      <td>CTGAGCTCTCTGGGAAAGTCGTGTTCCGGAA</td>\n",
       "      <td>3997</td>\n",
       "      <td>5</td>\n",
       "      <td>6</td>\n",
       "      <td>8</td>\n",
       "      <td>7</td>\n",
       "      <td>10</td>\n",
       "      <td>54.838710</td>\n",
       "    </tr>\n",
       "    <tr>\n",
       "      <th>3997</th>\n",
       "      <td>GTCTGCCTTTATGGCCTTTGTACTCAAAGAA</td>\n",
       "      <td>3998</td>\n",
       "      <td>10</td>\n",
       "      <td>7</td>\n",
       "      <td>11</td>\n",
       "      <td>7</td>\n",
       "      <td>6</td>\n",
       "      <td>41.935484</td>\n",
       "    </tr>\n",
       "    <tr>\n",
       "      <th>3998</th>\n",
       "      <td>AGACTATAGTGAGCTCAGGTGATTGATACTC</td>\n",
       "      <td>3999</td>\n",
       "      <td>7</td>\n",
       "      <td>9</td>\n",
       "      <td>9</td>\n",
       "      <td>5</td>\n",
       "      <td>8</td>\n",
       "      <td>41.935484</td>\n",
       "    </tr>\n",
       "    <tr>\n",
       "      <th>3999</th>\n",
       "      <td>AAACCCAGTCACTGGACACCTAAGTGTCCAC</td>\n",
       "      <td>4000</td>\n",
       "      <td>11</td>\n",
       "      <td>10</td>\n",
       "      <td>5</td>\n",
       "      <td>11</td>\n",
       "      <td>5</td>\n",
       "      <td>51.612903</td>\n",
       "    </tr>\n",
       "  </tbody>\n",
       "</table>\n",
       "<p>4000 rows × 8 columns</p>\n",
       "</div>"
      ],
      "text/plain": [
       "                                  Seq    Id   Count  CountA  CountT  CountC  \\\n",
       "0     AAAAAAAAAAAAAAAAAAAAAAAAAAAAAAA     1  113422      31       0       0   \n",
       "1     CAGGACTCCAATATAGAGATAAGTTAATGTC     2      93      12       8       5   \n",
       "2     TATGTAATTGGTTCCAGTGTGAGTCATTAAA     3       5       9      12       3   \n",
       "3     GATATTTTCGAAAAGTGGGATTTTTTAAACC     4      88      10      12       3   \n",
       "4     CTCCATCTCAGGTATTAGAATGAATGCTTAC     5       7       9      10       7   \n",
       "...                               ...   ...     ...     ...     ...     ...   \n",
       "3995  AGCTGCAGGAACTCCCTCGTCACAGCTTAAA  3996       5       9       6      10   \n",
       "3996  CTGAGCTCTCTGGGAAAGTCGTGTTCCGGAA  3997       5       6       8       7   \n",
       "3997  GTCTGCCTTTATGGCCTTTGTACTCAAAGAA  3998      10       7      11       7   \n",
       "3998  AGACTATAGTGAGCTCAGGTGATTGATACTC  3999       7       9       9       5   \n",
       "3999  AAACCCAGTCACTGGACACCTAAGTGTCCAC  4000      11      10       5      11   \n",
       "\n",
       "      CountG        %GC  \n",
       "0          0   0.000000  \n",
       "1          6  35.483871  \n",
       "2          7  32.258065  \n",
       "3          6  29.032258  \n",
       "4          5  38.709677  \n",
       "...      ...        ...  \n",
       "3995       6  51.612903  \n",
       "3996      10  54.838710  \n",
       "3997       6  41.935484  \n",
       "3998       8  41.935484  \n",
       "3999       5  51.612903  \n",
       "\n",
       "[4000 rows x 8 columns]"
      ]
     },
     "execution_count": 107,
     "metadata": {},
     "output_type": "execute_result"
    }
   ],
   "source": [
    "df[\"%GC\"] = (df.CountG + df.CountC)/(df.CountA+df.CountT+df.CountG+df.CountC)*100\n",
    "df"
   ]
  },
  {
   "cell_type": "markdown",
   "metadata": {
    "tags": []
   },
   "source": [
    "### 6) And find the 10 sequences with highest GC content. How many reads do they represent?\n",
    "(as a bonus, store this result in a new dataframe with only columns: Seq, Id, Count and %GC. You might need a few extra \"tricks\" with .loc[:,[\"Col1\", \"Col2\"])"
   ]
  },
  {
   "cell_type": "code",
   "execution_count": 143,
   "metadata": {},
   "outputs": [
    {
     "name": "stdout",
     "output_type": "stream",
     "text": [
      "                                  Seq    Id  Count        %GC\n",
      "1735  CTGCCCGCGCCCGCCGCCCAGGACCCCGCAC  1736      6  87.096774\n",
      "1508  ACGCACCCCTCCCCGGCCTGGGCGGCGGCGA  1509     72  83.870968\n",
      "963   CCGCGCCGCCCGGGCACCATGGCGGGGAAGG   964      7  83.870968\n",
      "233   ACCCGGCGCCCGGCCAGTCCTGCGCGTCCCC   234     38  83.870968\n",
      "3390  GCACGGGCGAAGGGGCCGCGGCCGCATGCCC  3391     64  83.870968\n",
      "1222  CTGCGGGGGGCCTGCGGAGACGGCGCCCGCA  1223      5  83.870968\n",
      "1751  CGGCGGTTGGCGGGGCACCACGGGAGGGGCC  1752     19  83.870968\n",
      "3021  GGGTCCGGCGCCGCCGGCTGCGGCTTCGCGA  3022     21  83.870968\n",
      "1899  AGGACTGGGGGGAGGCGGGCACCCCAGCGGG  1900     42  80.645161\n",
      "2320  GCAGGTCGCCCTGGGGTGCCCGCGCGTGGGA  2321      9  80.645161\n",
      "\n",
      "total number of read of the top 10 sequences with the most %GC\n"
     ]
    },
    {
     "data": {
      "text/plain": [
       "283"
      ]
     },
     "execution_count": 143,
     "metadata": {},
     "output_type": "execute_result"
    }
   ],
   "source": [
    "df6 = df.sort_values(by=\"%GC\", ascending=False).head(n=10).loc[:,(\"Seq\", \"Id\", \"Count\", \"%GC\")]\n",
    "print(df6)\n",
    "\n",
    "print()\n",
    "print(\"total number of read of the top 10 sequences with the most %GC\")\n",
    "sum(df6.Count)"
   ]
  },
  {
   "cell_type": "markdown",
   "metadata": {},
   "source": [
    "### 7) How many sequences with ≥ 50%GC (1453)? What is the %GC of all the sequences joined together (44.8%)? How many sequence have %GC above this average value (2104)?"
   ]
  },
  {
   "cell_type": "code",
   "execution_count": 160,
   "metadata": {},
   "outputs": [
    {
     "name": "stdout",
     "output_type": "stream",
     "text": [
      "\n",
      "How many sequences with ≥ 50%GC?\n",
      "1453\n",
      "\n",
      "What is the %GC of all the sequences joined together?\n",
      "44.836290322580645 %\n",
      "\n",
      "How many sequences have%GC above this value?\n",
      "2104\n"
     ]
    }
   ],
   "source": [
    "print()\n",
    "print(\"How many sequences with ≥ 50%GC?\")\n",
    "\n",
    "def limitpercent(XX):\n",
    "    return df[\"%GC\"] >= XX\n",
    "\n",
    "print(len(df.loc[limitpercent(50)]))\n",
    "\n",
    "print()\n",
    "print(\"What is the %GC of all the sequences joined together?\")\n",
    "\n",
    "avgGC = sum(df.CountC+df.CountG)/sum(df.CountA+df.CountT+df.CountG+df.CountC)*100\n",
    "print(avgGC, \"%\")\n",
    "\n",
    "print()\n",
    "print(\"How many sequences have%GC above this value?\")\n",
    "print(len(df.loc[limitpercent(avgGC)]))\n",
    "\n",
    "\n"
   ]
  },
  {
   "cell_type": "markdown",
   "metadata": {},
   "source": [
    "### (*Challenge!*): Which sequence would form the longest helix linking the 5' and 3' extremities (no overhang)?\n",
    "(Answer: ATGAATTGAGTTGTGTCCCCCCAAAATTCAT, 7 base pairs, line number 2827)\n",
    "(Working with GPT-4: https://chatgpt.com/share/4687f755-e276-4d69-94c3-68be6dc5b584  Search for \"Can you write a function that...\")"
   ]
  },
  {
   "cell_type": "code",
   "execution_count": 245,
   "metadata": {},
   "outputs": [],
   "source": [
    "#créer un fonction pour tester la complémentatité de deux nucléotides\n",
    "def compl(c1, c2):\n",
    "    #test, can be removed:\n",
    "    #print(\"is\", c1, \"complementary to\", c2)\n",
    "    if c1 ==\"A\" and c2 == \"T\":\n",
    "        return True\n",
    "    if c1 ==\"T\" and c2 == \"A\":\n",
    "        return True\n",
    "    if c1 ==\"C\" and c2 == \"G\":\n",
    "        return True\n",
    "    if c1 ==\"G\" and c2 == \"C\":\n",
    "        return True\n",
    "    else:\n",
    "        return False\n",
    "       "
   ]
  },
  {
   "cell_type": "code",
   "execution_count": 210,
   "metadata": {},
   "outputs": [
    {
     "name": "stdout",
     "output_type": "stream",
     "text": [
      "is A complementary to A\n",
      "False\n",
      "is A complementary to C\n",
      "False\n",
      "is A complementary to G\n",
      "False\n",
      "is A complementary to T\n",
      "True\n",
      "is T complementary to A\n",
      "True\n",
      "is T complementary to C\n",
      "False\n",
      "is T complementary to G\n",
      "False\n",
      "is T complementary to T\n",
      "False\n",
      "is C complementary to A\n",
      "False\n",
      "is C complementary to C\n",
      "False\n",
      "is C complementary to G\n",
      "True\n",
      "is C complementary to T\n",
      "False\n",
      "is G complementary to A\n",
      "False\n",
      "is G complementary to C\n",
      "True\n",
      "is G complementary to G\n",
      "False\n",
      "is G complementary to T\n",
      "False\n"
     ]
    }
   ],
   "source": [
    "#tester compl\n",
    "print(compl(\"A\", \"A\"))\n",
    "print(compl(\"A\", \"C\"))\n",
    "print(compl(\"A\", \"G\"))\n",
    "print(compl(\"A\", \"T\"))\n",
    "print(compl(\"T\", \"A\"))\n",
    "print(compl(\"T\", \"C\"))\n",
    "print(compl(\"T\", \"G\"))\n",
    "print(compl(\"T\", \"T\"))\n",
    "print(compl(\"C\", \"A\"))\n",
    "print(compl(\"C\", \"C\"))\n",
    "print(compl(\"C\", \"G\"))\n",
    "print(compl(\"C\", \"T\"))\n",
    "print(compl(\"G\", \"A\"))\n",
    "print(compl(\"G\", \"C\"))\n",
    "print(compl(\"G\", \"G\"))\n",
    "print(compl(\"G\", \"T\"))"
   ]
  },
  {
   "cell_type": "code",
   "execution_count": 211,
   "metadata": {},
   "outputs": [],
   "source": [
    "def nucpos(seq, pos):\n",
    "    pos1=0\n",
    "    for c in seq:\n",
    "        if pos1 == pos:\n",
    "            return c\n",
    "        else:\n",
    "            pos1=pos1+1\n"
   ]
  },
  {
   "cell_type": "code",
   "execution_count": 224,
   "metadata": {},
   "outputs": [
    {
     "name": "stdout",
     "output_type": "stream",
     "text": [
      "A\n"
     ]
    },
    {
     "data": {
      "text/plain": [
       "4"
      ]
     },
     "execution_count": 224,
     "metadata": {},
     "output_type": "execute_result"
    }
   ],
   "source": [
    "#test\n",
    "seqtest1=\"ATAT\"\n",
    "seqtest2=\"CGTG\"\n",
    "\n",
    "print(nucpos(seqtest1, 2))\n",
    "len(seqtest1)"
   ]
  },
  {
   "cell_type": "code",
   "execution_count": 232,
   "metadata": {},
   "outputs": [],
   "source": [
    "#déterminer nucl \"opposé\"\n",
    "def nucopp(seq, pos):\n",
    "    pos1=len(seq)-pos-1\n",
    "    pos2=0\n",
    "    for c in seq:\n",
    "        if pos1 == pos2:\n",
    "            return c\n",
    "        else:\n",
    "            pos2=pos2+1\n"
   ]
  },
  {
   "cell_type": "code",
   "execution_count": 233,
   "metadata": {},
   "outputs": [
    {
     "data": {
      "text/plain": [
       "'T'"
      ]
     },
     "execution_count": 233,
     "metadata": {},
     "output_type": "execute_result"
    }
   ],
   "source": [
    "#test\n",
    "seqtest1=\"ATAT\"\n",
    "seqtest2=\"CCTG\"\n",
    "\n",
    "nucopp(seqtest1, 0)"
   ]
  },
  {
   "cell_type": "code",
   "execution_count": 219,
   "metadata": {},
   "outputs": [],
   "source": [
    "def testcomppos(seq, pos):\n",
    "    return compl(nucpos(seq, pos), nucopp(seq, pos))\n",
    "    "
   ]
  },
  {
   "cell_type": "code",
   "execution_count": 234,
   "metadata": {},
   "outputs": [
    {
     "name": "stdout",
     "output_type": "stream",
     "text": [
      "is A complementary to T\n"
     ]
    },
    {
     "data": {
      "text/plain": [
       "True"
      ]
     },
     "execution_count": 234,
     "metadata": {},
     "output_type": "execute_result"
    }
   ],
   "source": [
    "#test\n",
    "testcomppos(seqtest1, 2)"
   ]
  },
  {
   "cell_type": "code",
   "execution_count": 277,
   "metadata": {},
   "outputs": [],
   "source": [
    "#scan a sequence to check if it is palindromic\n",
    "def scanseqcomp(seq):\n",
    "    pos=0\n",
    "    for c in seq:\n",
    "        if testcomppos(seq, pos) == True:\n",
    "            #test to check if complementarity at the opposite end is true\n",
    "            #print(pos)\n",
    "            pos=pos+1\n",
    "            if pos == len(seq):\n",
    "                return pos\n",
    "        else:\n",
    "            return pos\n",
    "            break\n",
    "            \n",
    "        "
   ]
  },
  {
   "cell_type": "code",
   "execution_count": 292,
   "metadata": {},
   "outputs": [
    {
     "data": {
      "text/plain": [
       "4"
      ]
     },
     "execution_count": 292,
     "metadata": {},
     "output_type": "execute_result"
    }
   ],
   "source": [
    "scanseqcomp(\"GGGGACTGCGGAGGCCAGCAGTGAACACCCC\")"
   ]
  },
  {
   "cell_type": "code",
   "execution_count": 314,
   "metadata": {
    "tags": []
   },
   "outputs": [
    {
     "name": "stdout",
     "output_type": "stream",
     "text": [
      "2827\n",
      "7\n",
      "Seq       ATGAATTGAGTTGTGTCCCCCCAAAATTCAT\n",
      "Id                                   2828\n",
      "Count                                  12\n",
      "CountA                                  9\n",
      "CountT                                 10\n",
      "CountC                                  7\n",
      "CountG                                  5\n",
      "%GC                             38.709677\n",
      "Name: 2827, dtype: object\n"
     ]
    }
   ],
   "source": [
    "row=0\n",
    "maxpallen=0\n",
    "maxpalrow=0\n",
    "for seq in df.Seq:\n",
    "    if scanseqcomp(seq) >= maxpallen:\n",
    "        maxpallen = scanseqcomp(seq)\n",
    "        maxpalrow=row\n",
    "        #test:\n",
    "        #print(maxpalrow, maxpallen)\n",
    "    row=row+1\n",
    "print(maxpalrow)\n",
    "print(maxpallen)\n",
    "print(df.loc[maxpalrow])"
   ]
  },
  {
   "cell_type": "code",
   "execution_count": 313,
   "metadata": {},
   "outputs": [
    {
     "data": {
      "text/plain": [
       "16"
      ]
     },
     "execution_count": 313,
     "metadata": {},
     "output_type": "execute_result"
    }
   ],
   "source": [
    "8 << 1"
   ]
  },
  {
   "cell_type": "code",
   "execution_count": null,
   "metadata": {},
   "outputs": [],
   "source": []
  }
 ],
 "metadata": {
  "kernelspec": {
   "display_name": "Python (bioinfo)2024",
   "language": "python",
   "name": "bioinfo"
  },
  "language_info": {
   "codemirror_mode": {
    "name": "ipython",
    "version": 3
   },
   "file_extension": ".py",
   "mimetype": "text/x-python",
   "name": "python",
   "nbconvert_exporter": "python",
   "pygments_lexer": "ipython3",
   "version": "3.10.4"
  }
 },
 "nbformat": 4,
 "nbformat_minor": 4
}
